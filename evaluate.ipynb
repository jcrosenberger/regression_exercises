{
 "cells": [
  {
   "cell_type": "code",
   "execution_count": 1,
   "id": "8b2d65f5-0179-446d-83bd-cdb19e807441",
   "metadata": {},
   "outputs": [],
   "source": [
    "# standard python modules\n",
    "%matplotlib inline\n",
    "import matplotlib.pyplot as plt\n",
    "import numpy as np\n",
    "import pandas as pd\n",
    "import pydataset\n",
    "import seaborn as sns\n",
    "from math import sqrt\n",
    "from sklearn.metrics import mean_squared_error, r2_score\n",
    "from sklearn.linear_model import LinearRegression as lr\n",
    "import statsmodels.api as sm\n",
    "\n",
    "\n",
    "# my modules\n",
    "import src.env as env\n",
    "import src.wrangle as wr\n",
    "import src.evaluate as evaluate \n",
    "\n",
    "# setting random seed to 7\n",
    "np.random.seed(7)"
   ]
  },
  {
   "cell_type": "markdown",
   "id": "e719ed4e-25c0-470a-9a62-c815a5eac119",
   "metadata": {},
   "source": [
    "## Evaluating Regression Models\n",
    "### Exercises"
   ]
  },
  {
   "cell_type": "markdown",
   "id": "1d8a9d31-12eb-4d05-ac83-34e8dae65504",
   "metadata": {},
   "source": [
    "### 1. Load your zillow dataset."
   ]
  },
  {
   "cell_type": "code",
   "execution_count": 2,
   "id": "3425476b-de35-4471-8835-abe972449a30",
   "metadata": {},
   "outputs": [],
   "source": [
    "df = wr.clean_zillow_2017(small=True)"
   ]
  },
  {
   "cell_type": "code",
   "execution_count": 3,
   "id": "cca727d4-c240-488f-8949-803e410b6bd7",
   "metadata": {},
   "outputs": [],
   "source": [
    "df = df.drop(columns = ['bedrooms','baths','year_built','tax_amount','fips'])"
   ]
  },
  {
   "cell_type": "markdown",
   "id": "2d6b22d7-24dd-4999-8907-8150619b6499",
   "metadata": {},
   "source": [
    "### 2. Fit a linear regression model (ordinary least squares) and compute yhat, predictions of taxvaluedollarcnt using only calculatedfinishedsqft."
   ]
  },
  {
   "cell_type": "code",
   "execution_count": 4,
   "id": "65375fdb-4157-4e91-8f8d-3691cb9f4f32",
   "metadata": {},
   "outputs": [],
   "source": [
    "# defining dependent and independent variables\n",
    "y = df['tax_value']\n",
    "\n",
    "# not the extra set of brackets. That creates a dataframe column for x to hold.\n",
    "x = df[['sq_feet']]\n",
    "\n",
    "# This does NOT create a dataframe column. It creates a series. We need a dataframe for this model\n",
    "#X = df['sq_feet']"
   ]
  },
  {
   "cell_type": "code",
   "execution_count": 5,
   "id": "7e7bbcfd-f2b0-4e32-8c79-a52ab4cebe1c",
   "metadata": {},
   "outputs": [],
   "source": [
    "# defining model using linear regression\n",
    "model = lr().fit(x, y)\n",
    "\n",
    "\n",
    "# we are calling yhat \"predictions\"\n",
    "predictions = model.predict(x)\n"
   ]
  },
  {
   "cell_type": "markdown",
   "id": "fdc9f810-fdac-4f27-8076-fb6fae05aa96",
   "metadata": {},
   "source": [
    "### 3. Plot the residuals for the linear regression model that you made."
   ]
  },
  {
   "cell_type": "code",
   "execution_count": 6,
   "id": "0e6357f3-8880-47e3-a586-cbed96402c35",
   "metadata": {},
   "outputs": [],
   "source": [
    "# computing residuals\n",
    "# df = x\n",
    "df['predictions'] = predictions\n",
    "df['y'] = y\n",
    "df['residuals'] = df['y']-df['predictions']\n",
    "df['residual_baseline'] = df['y'].mean() - df['y']\n",
    "df['baseline'] = df['y'].mean()"
   ]
  },
  {
   "cell_type": "code",
   "execution_count": 7,
   "id": "25aa500e-79e2-42fa-a816-437b9e93b201",
   "metadata": {},
   "outputs": [
    {
     "data": {
      "text/html": [
       "<div>\n",
       "<style scoped>\n",
       "    .dataframe tbody tr th:only-of-type {\n",
       "        vertical-align: middle;\n",
       "    }\n",
       "\n",
       "    .dataframe tbody tr th {\n",
       "        vertical-align: top;\n",
       "    }\n",
       "\n",
       "    .dataframe thead th {\n",
       "        text-align: right;\n",
       "    }\n",
       "</style>\n",
       "<table border=\"1\" class=\"dataframe\">\n",
       "  <thead>\n",
       "    <tr style=\"text-align: right;\">\n",
       "      <th></th>\n",
       "      <th>Unnamed: 0</th>\n",
       "      <th>sq_feet</th>\n",
       "      <th>tax_value</th>\n",
       "      <th>predictions</th>\n",
       "      <th>y</th>\n",
       "      <th>residuals</th>\n",
       "      <th>residual_baseline</th>\n",
       "      <th>baseline</th>\n",
       "    </tr>\n",
       "  </thead>\n",
       "  <tbody>\n",
       "    <tr>\n",
       "      <th>497803</th>\n",
       "      <td>497803</td>\n",
       "      <td>1349</td>\n",
       "      <td>283499</td>\n",
       "      <td>239832.218313</td>\n",
       "      <td>283499</td>\n",
       "      <td>4.366678e+04</td>\n",
       "      <td>1.767967e+05</td>\n",
       "      <td>460295.668486</td>\n",
       "    </tr>\n",
       "    <tr>\n",
       "      <th>522706</th>\n",
       "      <td>522706</td>\n",
       "      <td>1366</td>\n",
       "      <td>558000</td>\n",
       "      <td>247146.747447</td>\n",
       "      <td>558000</td>\n",
       "      <td>3.108533e+05</td>\n",
       "      <td>-9.770433e+04</td>\n",
       "      <td>460295.668486</td>\n",
       "    </tr>\n",
       "    <tr>\n",
       "      <th>704218</th>\n",
       "      <td>704218</td>\n",
       "      <td>1752</td>\n",
       "      <td>131511</td>\n",
       "      <td>413229.585436</td>\n",
       "      <td>131511</td>\n",
       "      <td>-2.817186e+05</td>\n",
       "      <td>3.287847e+05</td>\n",
       "      <td>460295.668486</td>\n",
       "    </tr>\n",
       "    <tr>\n",
       "      <th>857273</th>\n",
       "      <td>857273</td>\n",
       "      <td>2254</td>\n",
       "      <td>1945000</td>\n",
       "      <td>629223.328106</td>\n",
       "      <td>1945000</td>\n",
       "      <td>1.315777e+06</td>\n",
       "      <td>-1.484704e+06</td>\n",
       "      <td>460295.668486</td>\n",
       "    </tr>\n",
       "    <tr>\n",
       "      <th>823617</th>\n",
       "      <td>823617</td>\n",
       "      <td>3018</td>\n",
       "      <td>934000</td>\n",
       "      <td>957946.872727</td>\n",
       "      <td>934000</td>\n",
       "      <td>-2.394687e+04</td>\n",
       "      <td>-4.737043e+05</td>\n",
       "      <td>460295.668486</td>\n",
       "    </tr>\n",
       "  </tbody>\n",
       "</table>\n",
       "</div>"
      ],
      "text/plain": [
       "        Unnamed: 0  sq_feet  tax_value    predictions        y     residuals  \\\n",
       "497803      497803     1349     283499  239832.218313   283499  4.366678e+04   \n",
       "522706      522706     1366     558000  247146.747447   558000  3.108533e+05   \n",
       "704218      704218     1752     131511  413229.585436   131511 -2.817186e+05   \n",
       "857273      857273     2254    1945000  629223.328106  1945000  1.315777e+06   \n",
       "823617      823617     3018     934000  957946.872727   934000 -2.394687e+04   \n",
       "\n",
       "        residual_baseline       baseline  \n",
       "497803       1.767967e+05  460295.668486  \n",
       "522706      -9.770433e+04  460295.668486  \n",
       "704218       3.287847e+05  460295.668486  \n",
       "857273      -1.484704e+06  460295.668486  \n",
       "823617      -4.737043e+05  460295.668486  "
      ]
     },
     "execution_count": 7,
     "metadata": {},
     "output_type": "execute_result"
    }
   ],
   "source": [
    "df.head()"
   ]
  },
  {
   "cell_type": "markdown",
   "id": "1528ecb8-a92e-41be-aeb5-f64c14bdd35f",
   "metadata": {},
   "source": [
    "- I don't know how to interpret these or if they are things"
   ]
  },
  {
   "cell_type": "code",
   "execution_count": 8,
   "id": "39853cf3-13a5-4121-9eff-8180b1def71c",
   "metadata": {},
   "outputs": [
    {
     "data": {
      "text/plain": [
       "0.0"
      ]
     },
     "execution_count": 8,
     "metadata": {},
     "output_type": "execute_result"
    }
   ],
   "source": [
    "round(df['residuals'].mean() - df['residual_baseline'].mean(),5)"
   ]
  },
  {
   "cell_type": "code",
   "execution_count": 9,
   "id": "8da36456-fb18-405b-85bf-65b40d029590",
   "metadata": {},
   "outputs": [
    {
     "data": {
      "text/plain": [
       "1e-05"
      ]
     },
     "execution_count": 9,
     "metadata": {},
     "output_type": "execute_result"
    }
   ],
   "source": [
    "round(df['residuals'].sum() - df['residual_baseline'].sum(),5)"
   ]
  },
  {
   "cell_type": "code",
   "execution_count": 10,
   "id": "fe527d66-6548-4454-913c-5539e59462cf",
   "metadata": {},
   "outputs": [
    {
     "data": {
      "image/png": "[encoded data removed]",
      "text/plain": [
       "<Figure size 640x480 with 1 Axes>"
      ]
     },
     "metadata": {},
     "output_type": "display_data"
    }
   ],
   "source": [
    "fig = sns.scatterplot(x = df['y'], y = df['residuals'])"
   ]
  },
  {
   "cell_type": "markdown",
   "id": "3105afea-762a-4b60-b5e6-4e25b291984d",
   "metadata": {},
   "source": [
    "### 4. Calculate the sum of squared errors, explained sum of squares, total sum of squares, mean squared error, and root mean squared error for your model."
   ]
  },
  {
   "cell_type": "code",
   "execution_count": 11,
   "id": "3adf8021-8e11-4ada-9f6d-3bf7fda93985",
   "metadata": {},
   "outputs": [],
   "source": [
    "# explained sum of squares\n",
    "ess = ((df['predictions'] - df['y'].mean())**2).sum()\n",
    "# sum of squres errors\n",
    "sse = mean_squared_error(df['y'], df['predictions'])*len(df)\n",
    "# total sum of squares\n",
    "tss = ess+sse\n",
    "\n",
    "\n",
    "# mean sum of squares error\n",
    "mse = mean_squared_error(df['y'],df['predictions'])\n",
    "# rooted sum of squares \n",
    "rmse = sqrt(mse)\n",
    "\n",
    "r2 = ess/tss"
   ]
  },
  {
   "cell_type": "code",
   "execution_count": 12,
   "id": "312e76de-7b8b-4077-a424-b8522bb651bf",
   "metadata": {},
   "outputs": [
    {
     "data": {
      "text/plain": [
       "0.0"
      ]
     },
     "execution_count": 12,
     "metadata": {},
     "output_type": "execute_result"
    }
   ],
   "source": [
    "r2_score(df['y'], df['baseline']) "
   ]
  },
  {
   "cell_type": "code",
   "execution_count": 13,
   "id": "fd6e83b6-9b2f-4ca6-9867-4db63cdf0d89",
   "metadata": {},
   "outputs": [
    {
     "data": {
      "text/plain": [
       "0.0"
      ]
     },
     "execution_count": 13,
     "metadata": {},
     "output_type": "execute_result"
    }
   ],
   "source": [
    "r2_score(df['y'], df['baseline']) "
   ]
  },
  {
   "cell_type": "code",
   "execution_count": 14,
   "id": "691f21d1-8fb3-4d6a-a576-707400fd76be",
   "metadata": {},
   "outputs": [
    {
     "name": "stdout",
     "output_type": "stream",
     "text": [
      "Model Performance\n",
      "ESS = 5.43790638105645e+16\n",
      "SSE = 8.983958286055762e+16\n",
      "TSS = 1.442186466711221e+17\n",
      "MSE = 285593068869.94904\n",
      "RMSE = 534409.0838205775\n",
      "R^2 = 0.3770598675\n"
     ]
    }
   ],
   "source": [
    "print(f'Model Performance'\n",
    "      f'\\nESS = {round(ess,10)}\\nSSE = {round(sse,10)}'\n",
    "      f'\\nTSS = {round(tss,10)}\\nMSE = {round(mse,10)}'\n",
    "      f'\\nRMSE = {round(rmse,10)}\\nR^2 = {round(r2,10)}')"
   ]
  },
  {
   "cell_type": "markdown",
   "id": "382b2924-86e7-4078-811c-964455160248",
   "metadata": {},
   "source": [
    "### 5. Calculate the sum of squared errors, mean squared error, and root mean squared error for the baseline model (i.e. a model that always predicts the average taxvaluedollarcnt amount)."
   ]
  },
  {
   "cell_type": "code",
   "execution_count": 15,
   "id": "4542f074-dbfc-4a70-a8b3-1e5d4aed06a2",
   "metadata": {},
   "outputs": [],
   "source": [
    "# explained sum of squares, baseline is in place of predictions (or y^hat)\n",
    "ess1 = ((df['baseline'] - df['y'].mean())**2).sum()\n",
    "# sum of squres errors\n",
    "sse1 = mean_squared_error(df['y'], df['baseline'])*len(df)\n",
    "# total sum of squares\n",
    "tss1 = ess1+sse1\n",
    "\n",
    "\n",
    "# mean sum of squares error\n",
    "mse1 = mean_squared_error(df['y'],df['baseline'])\n",
    "# rooted sum of squares \n",
    "rmse1 = sqrt(mse1)\n",
    "\n",
    "r21 = ess1/tss1"
   ]
  },
  {
   "cell_type": "code",
   "execution_count": 16,
   "id": "3d8dd26b-8784-4db2-8f22-fb2fffbc1400",
   "metadata": {},
   "outputs": [
    {
     "name": "stdout",
     "output_type": "stream",
     "text": [
      "Baseline Performance\n",
      "ESS = 0.0\n",
      "SSE = 1.4421864667112192e+17\n",
      "TSS = 1.4421864667112192e+17\n",
      "MSE = 458459896847.5323\n",
      "RMSE = 677096.6672843194\n",
      "R^2 = 0.0\n"
     ]
    }
   ],
   "source": [
    "print(f'Baseline Performance'\n",
    "      f'\\nESS = {round(ess1,10)}\\nSSE = {round(sse1,10)}'\n",
    "      f'\\nTSS = {round(tss1,10)}\\nMSE = {round(mse1,10)}'\n",
    "      f'\\nRMSE = {round(rmse1,10)}\\nR^2 = {round(r21,10)}')"
   ]
  },
  {
   "cell_type": "markdown",
   "id": "2fc27808-efa2-4809-8180-eb39ec6bf2d2",
   "metadata": {},
   "source": [
    "### 6. Write python code that compares the sum of squared errors for your model against the sum of squared errors for the baseline model and outputs whether or not your model performs better than the baseline model."
   ]
  },
  {
   "cell_type": "code",
   "execution_count": 17,
   "id": "c552af87-5849-41c9-99ed-c64f4da2fb18",
   "metadata": {},
   "outputs": [
    {
     "name": "stdout",
     "output_type": "stream",
     "text": [
      "Our model outperforms the baseline.\n"
     ]
    }
   ],
   "source": [
    "# sse1 represents baseline (or sse prime), sse is our model\n",
    "if sse < sse1:\n",
    "    print(f'Our model outperforms the baseline.')\n",
    "else:\n",
    "    print(f'The baseline outperforms our model.')\n",
    "    "
   ]
  },
  {
   "cell_type": "markdown",
   "id": "8d828b67-4f71-4ed2-94d9-8cf1dcb4e766",
   "metadata": {},
   "source": [
    "### 7. What is the amount of variance explained in your model?"
   ]
  },
  {
   "cell_type": "code",
   "execution_count": 18,
   "id": "ad69cf06-ca27-40fc-a7ca-2c5a8499c18b",
   "metadata": {},
   "outputs": [
    {
     "name": "stdout",
     "output_type": "stream",
     "text": [
      "Our model explains 37.706% of the change in our target variable\n"
     ]
    }
   ],
   "source": [
    "print(f'Our model explains {round((r2*100),3)}% of the change in our target variable')"
   ]
  },
  {
   "cell_type": "code",
   "execution_count": 19,
   "id": "394142a3-a3c8-4b39-84cc-fb51f11baf02",
   "metadata": {},
   "outputs": [
    {
     "name": "stdout",
     "output_type": "stream",
     "text": [
      "The base model explains 0.0% of the change in our target variable\n"
     ]
    }
   ],
   "source": [
    "print(f'The base model explains {round((r21*100),3)}% of the change in our target variable')"
   ]
  },
  {
   "cell_type": "markdown",
   "id": "dfe36848-8de6-46d0-ae7b-6e87d98dc91f",
   "metadata": {},
   "source": [
    "### 8. Is your model better than the baseline model?"
   ]
  },
  {
   "cell_type": "markdown",
   "id": "872d3b32-0efe-4b49-88f3-d95a531a6102",
   "metadata": {},
   "source": [
    "- Our model is much better than the baseline. It's not very good, but it is much better than baseline"
   ]
  },
  {
   "cell_type": "markdown",
   "id": "45e3f947-5823-45ec-88ab-d07318f385b6",
   "metadata": {},
   "source": [
    "### 9. Create a file named evaluate.py that contains the following functions.\n",
    "\n",
    "- plot_residuals(y, yhat): creates a residual plot\n",
    "- regression_errors(y, yhat): returns the following values:\n",
    "    sum of squared errors (SSE)\n",
    "    explained sum of squares (ESS)\n",
    "    total sum of squares (TSS)\n",
    "    mean squared error (MSE)\n",
    "    root mean squared error (RMSE)\n",
    "- baseline_mean_errors(y): computes the SSE, MSE, and RMSE for the baseline model\n",
    "- better_than_baseline(y, yhat): returns true if your model performs better than the baseline, otherwise false"
   ]
  },
  {
   "cell_type": "code",
   "execution_count": 41,
   "id": "d3f58707-7af6-4b5d-b300-9e93f15e63eb",
   "metadata": {},
   "outputs": [],
   "source": [
    "import src.evaluate as evaluate"
   ]
  },
  {
   "cell_type": "code",
   "execution_count": 45,
   "id": "8ee74266-8911-4e6f-8039-537c58589187",
   "metadata": {},
   "outputs": [],
   "source": [
    "def regression_errors(y, yhat):\n",
    "\n",
    "\n",
    "    ess, sse, tss, mse, rmse, r2 = calc_performance(y, yhat)\n",
    "\n",
    "    print(f'''Model Performance\n",
    "      ESS = {round(ess,5)}\n",
    "      SSE = {round(sse,5)}\n",
    "      TSS = {round(tss,5)}\n",
    "      MSE = {round(mse,5)}\n",
    "      RMSE = {round(rmse,5)}''')"
   ]
  },
  {
   "cell_type": "code",
   "execution_count": 62,
   "id": "3a496c8b-ac63-4a9f-ba1f-5f7a9a55790a",
   "metadata": {},
   "outputs": [],
   "source": [
    "def calc_performance(y, yhat):\n",
    "    # explained sum of squares\n",
    "    ess = sum((yhat - y.mean())**2)    \n",
    "     \n",
    "    # mean sum of squares error\n",
    "    mse = mean_squared_error(y,yhat)\n",
    "    \n",
    "    # sum of squres errors\n",
    "    sse = mse*len(y)\n",
    "    \n",
    "    # total sum of squares\n",
    "    tss = ess+sse\n",
    "    # rooted sum of squares \n",
    "    rmse = sqrt(mse)\n",
    "    \n",
    "    # R squared\n",
    "    r2 = ess/tss\n",
    "\n",
    "    return ess, sse, tss, mse, rmse, r2"
   ]
  },
  {
   "cell_type": "code",
   "execution_count": 63,
   "id": "36ae6d03-6379-4556-8697-6db0afb6188e",
   "metadata": {},
   "outputs": [
    {
     "name": "stdout",
     "output_type": "stream",
     "text": [
      "Model Performance\n",
      "      ESS = 5.43790638105665e+16\n",
      "      SSE = 8.983958286055762e+16\n",
      "      TSS = 1.442186466711241e+17\n",
      "      MSE = 285593068869.94904\n",
      "      RMSE = 534409.08382\n"
     ]
    }
   ],
   "source": [
    "regression_errors(df['y'], df['predictions'])"
   ]
  },
  {
   "cell_type": "code",
   "execution_count": 66,
   "id": "0ac2e48f-2d84-45aa-b6a0-1a7a8a0311f0",
   "metadata": {},
   "outputs": [],
   "source": [
    "def baseline_mean_errors(y):\n",
    "    y_mean = int(y.mean())\n",
    "    calc_performance(y, y_mean)\n",
    "    "
   ]
  },
  {
   "cell_type": "code",
   "execution_count": null,
   "id": "0b13a775-ce4d-492f-8ac2-d8e7bdba44ff",
   "metadata": {},
   "outputs": [],
   "source": []
  }
 ],
 "metadata": {
  "kernelspec": {
   "display_name": "Python 3 (ipykernel)",
   "language": "python",
   "name": "python3"
  },
  "language_info": {
   "codemirror_mode": {
    "name": "ipython",
    "version": 3
   },
   "file_extension": ".py",
   "mimetype": "text/x-python",
   "name": "python",
   "nbconvert_exporter": "python",
   "pygments_lexer": "ipython3",
   "version": "3.9.13"
  }
 },
 "nbformat": 4,
 "nbformat_minor": 5
}
