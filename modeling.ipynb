{
 "cells": [
  {
   "cell_type": "code",
   "execution_count": 1,
   "id": "46f064c6-d485-4c67-a3b0-d2ee2b843a2c",
   "metadata": {},
   "outputs": [],
   "source": [
    "from sklearn.feature_selection import RFE\n",
    "from sklearn.preprocessing import MinMaxScaler\n",
    "\n",
    "# standard python modules\n",
    "%matplotlib inline\n",
    "import matplotlib.pyplot as plt\n",
    "import numpy as np\n",
    "import pandas as pd\n",
    "import pydataset\n",
    "import seaborn as sns\n",
    "from math import sqrt\n",
    "from sklearn.feature_selection import RFE\n",
    "from sklearn.preprocessing import MinMaxScaler\n",
    "from sklearn.metrics import mean_squared_error, r2_score\n",
    "from sklearn.linear_model import LinearRegression as lr\n",
    "import statsmodels.api as sm\n",
    "\n",
    "\n",
    "# my modules\n",
    "import src.env as env\n",
    "import src.wrangle as wr\n",
    "import src.evaluate as evaluate \n",
    "\n",
    "# setting random seed to 7\n",
    "np.random.seed(7)"
   ]
  },
  {
   "cell_type": "code",
   "execution_count": null,
   "id": "3896407e-8405-46f0-bc91-f5e79596c65b",
   "metadata": {},
   "outputs": [],
   "source": [
    "# using a small sample for regression exploration\n",
    "df = wr.clean_zillow_2017(small=True)"
   ]
  },
  {
   "cell_type": "code",
   "execution_count": null,
   "id": "0f869a1f-84e2-4272-9427-4b3026f5dbd6",
   "metadata": {},
   "outputs": [],
   "source": []
  }
 ],
 "metadata": {
  "kernelspec": {
   "display_name": "Python 3 (ipykernel)",
   "language": "python",
   "name": "python3"
  },
  "language_info": {
   "codemirror_mode": {
    "name": "ipython",
    "version": 3
   },
   "file_extension": ".py",
   "mimetype": "text/x-python",
   "name": "python",
   "nbconvert_exporter": "python",
   "pygments_lexer": "ipython3",
   "version": "3.9.13"
  }
 },
 "nbformat": 4,
 "nbformat_minor": 5
}
