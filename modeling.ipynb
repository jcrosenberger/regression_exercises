{
 "cells": [
  {
   "cell_type": "code",
   "execution_count": 23,
   "id": "46f064c6-d485-4c67-a3b0-d2ee2b843a2c",
   "metadata": {},
   "outputs": [],
   "source": [
    "# standard python modules\n",
    "%matplotlib inline\n",
    "import matplotlib.pyplot as plt\n",
    "import numpy as np\n",
    "import pandas as pd\n",
    "import pydataset\n",
    "import seaborn as sns\n",
    "from math import sqrt\n",
    "from sklearn.feature_selection import RFE\n",
    "from sklearn.preprocessing import MinMaxScaler\n",
    "from sklearn.metrics import mean_squared_error, r2_score\n",
    "from sklearn.linear_model import LinearRegression, LassoLars, TweedieRegressor\n",
    "import statsmodels.api as sm\n",
    "\n",
    "\n",
    "# my modules\n",
    "import src.env as env\n",
    "import src.wrangle as wr\n",
    "import src.evaluate as evaluate \n",
    "\n",
    "# setting random seed to 7\n",
    "np.random.seed(7)\n",
    "\n",
    "# turning off red warnings\n",
    "import warnings\n",
    "warnings.filterwarnings(\"ignore\")"
   ]
  },
  {
   "cell_type": "markdown",
   "id": "bfca2730-483b-479b-b367-e1b87b33ec5d",
   "metadata": {},
   "source": [
    "## Exercises"
   ]
  },
  {
   "cell_type": "markdown",
   "id": "d52cde6d-2bcd-484e-b49d-184db9622493",
   "metadata": {},
   "source": [
    "### 1. Select a dataset with a continuous target variable."
   ]
  },
  {
   "cell_type": "markdown",
   "id": "d0269374-abb0-481e-9788-6ee6f2aedeb6",
   "metadata": {},
   "source": [
    "- using zillow 2017 dataset"
   ]
  },
  {
   "cell_type": "code",
   "execution_count": 2,
   "id": "3896407e-8405-46f0-bc91-f5e79596c65b",
   "metadata": {},
   "outputs": [],
   "source": [
    "# using a small sample for regression exploration\n",
    "df = wr.clean_zillow_2017(small=True)"
   ]
  },
  {
   "cell_type": "code",
   "execution_count": 5,
   "id": "9273d09c-edba-4138-91e6-89369b2dd366",
   "metadata": {},
   "outputs": [
    {
     "data": {
      "text/html": [
       "<div>\n",
       "<style scoped>\n",
       "    .dataframe tbody tr th:only-of-type {\n",
       "        vertical-align: middle;\n",
       "    }\n",
       "\n",
       "    .dataframe tbody tr th {\n",
       "        vertical-align: top;\n",
       "    }\n",
       "\n",
       "    .dataframe thead th {\n",
       "        text-align: right;\n",
       "    }\n",
       "</style>\n",
       "<table border=\"1\" class=\"dataframe\">\n",
       "  <thead>\n",
       "    <tr style=\"text-align: right;\">\n",
       "      <th></th>\n",
       "      <th>bedrooms</th>\n",
       "      <th>baths</th>\n",
       "      <th>sq_feet</th>\n",
       "      <th>tax_value</th>\n",
       "      <th>year_built</th>\n",
       "      <th>tax_amount</th>\n",
       "      <th>fips</th>\n",
       "    </tr>\n",
       "  </thead>\n",
       "  <tbody>\n",
       "    <tr>\n",
       "      <th>739421</th>\n",
       "      <td>3</td>\n",
       "      <td>1</td>\n",
       "      <td>1122</td>\n",
       "      <td>271709</td>\n",
       "      <td>1947</td>\n",
       "      <td>3429</td>\n",
       "      <td>6037</td>\n",
       "    </tr>\n",
       "    <tr>\n",
       "      <th>1207444</th>\n",
       "      <td>2</td>\n",
       "      <td>2</td>\n",
       "      <td>1198</td>\n",
       "      <td>311634</td>\n",
       "      <td>1941</td>\n",
       "      <td>3755</td>\n",
       "      <td>6037</td>\n",
       "    </tr>\n",
       "    <tr>\n",
       "      <th>289843</th>\n",
       "      <td>4</td>\n",
       "      <td>3</td>\n",
       "      <td>3385</td>\n",
       "      <td>1616623</td>\n",
       "      <td>1976</td>\n",
       "      <td>17548</td>\n",
       "      <td>6059</td>\n",
       "    </tr>\n",
       "    <tr>\n",
       "      <th>2115765</th>\n",
       "      <td>3</td>\n",
       "      <td>2</td>\n",
       "      <td>1612</td>\n",
       "      <td>335497</td>\n",
       "      <td>1967</td>\n",
       "      <td>4552</td>\n",
       "      <td>6037</td>\n",
       "    </tr>\n",
       "    <tr>\n",
       "      <th>50238</th>\n",
       "      <td>2</td>\n",
       "      <td>1</td>\n",
       "      <td>1061</td>\n",
       "      <td>243321</td>\n",
       "      <td>1949</td>\n",
       "      <td>3159</td>\n",
       "      <td>6037</td>\n",
       "    </tr>\n",
       "  </tbody>\n",
       "</table>\n",
       "</div>"
      ],
      "text/plain": [
       "         bedrooms  baths  sq_feet  tax_value  year_built  tax_amount  fips\n",
       "739421          3      1     1122     271709        1947        3429  6037\n",
       "1207444         2      2     1198     311634        1941        3755  6037\n",
       "289843          4      3     3385    1616623        1976       17548  6059\n",
       "2115765         3      2     1612     335497        1967        4552  6037\n",
       "50238           2      1     1061     243321        1949        3159  6037"
      ]
     },
     "execution_count": 5,
     "metadata": {},
     "output_type": "execute_result"
    }
   ],
   "source": [
    "df.head()"
   ]
  },
  {
   "cell_type": "markdown",
   "id": "2d73e972-a82f-4687-9615-a8e6041cf49c",
   "metadata": {},
   "source": [
    "### 2. Be sure your data is prepared (no missing values, numeric datatypes) and split into samples."
   ]
  },
  {
   "cell_type": "code",
   "execution_count": 7,
   "id": "b2dab4fe-1126-4800-a43b-dfb62013b152",
   "metadata": {},
   "outputs": [],
   "source": [
    "# develop our sample further by dividing into train, validate, and test samples\n",
    "x_train, y_train, x_validate, y_validate, x_test, y_test = wr.x_y(df, 'tax_value')"
   ]
  },
  {
   "cell_type": "markdown",
   "id": "cb99eb47-7ab6-4dcc-adcf-b370ec0221c1",
   "metadata": {},
   "source": [
    "### 3. Work through all of the steps outlined in the lesson, from setting the baseline to selected a model and evaluating the final model on your test data."
   ]
  },
  {
   "cell_type": "code",
   "execution_count": 79,
   "id": "4663cd34-ac65-43e1-9fed-d3b448669049",
   "metadata": {},
   "outputs": [
    {
     "data": {
      "text/plain": [
       "bedrooms      0\n",
       "baths         0\n",
       "sq_feet       0\n",
       "year_built    0\n",
       "tax_amount    0\n",
       "fips          0\n",
       "dtype: int64"
      ]
     },
     "execution_count": 79,
     "metadata": {},
     "output_type": "execute_result"
    }
   ],
   "source": [
    "x_train.isnull().sum()"
   ]
  },
  {
   "cell_type": "code",
   "execution_count": 10,
   "id": "c5672e0c-1891-4012-94d6-b34e2db38805",
   "metadata": {},
   "outputs": [],
   "source": [
    "# make the model\n",
    "lm = lr()\n",
    "# fit data to simple regression\n",
    "lm.fit(x_train, y_train)"
   ]
  },
  {
   "cell_type": "code",
   "execution_count": 84,
   "id": "55b2f4cd-b236-48ec-85bb-6953ee1023a1",
   "metadata": {},
   "outputs": [],
   "source": [
    "predictions = pd.DataFrame()"
   ]
  },
  {
   "cell_type": "code",
   "execution_count": 85,
   "id": "20fc10b1-525c-447b-8261-11a76a85c994",
   "metadata": {},
   "outputs": [],
   "source": [
    "predictions['target'] = y_train"
   ]
  },
  {
   "cell_type": "code",
   "execution_count": 86,
   "id": "62e25021-ee0d-4d9f-9cb7-25849f139db1",
   "metadata": {},
   "outputs": [],
   "source": [
    "# produce baseline predictions based on the mean of the tax values\n",
    "predictions['baseline_mean'] = round(y_train.mean(),3)\n",
    "predictions['baseline_median'] = y_train.median()"
   ]
  },
  {
   "cell_type": "code",
   "execution_count": 87,
   "id": "a84aff83-5361-4913-b6bd-69177e26f9e8",
   "metadata": {},
   "outputs": [
    {
     "data": {
      "text/html": [
       "<div>\n",
       "<style scoped>\n",
       "    .dataframe tbody tr th:only-of-type {\n",
       "        vertical-align: middle;\n",
       "    }\n",
       "\n",
       "    .dataframe tbody tr th {\n",
       "        vertical-align: top;\n",
       "    }\n",
       "\n",
       "    .dataframe thead th {\n",
       "        text-align: right;\n",
       "    }\n",
       "</style>\n",
       "<table border=\"1\" class=\"dataframe\">\n",
       "  <thead>\n",
       "    <tr style=\"text-align: right;\">\n",
       "      <th></th>\n",
       "      <th>target</th>\n",
       "      <th>baseline_mean</th>\n",
       "      <th>baseline_median</th>\n",
       "    </tr>\n",
       "  </thead>\n",
       "  <tbody>\n",
       "    <tr>\n",
       "      <th>1670342</th>\n",
       "      <td>170455</td>\n",
       "      <td>398891.445</td>\n",
       "      <td>322000.0</td>\n",
       "    </tr>\n",
       "    <tr>\n",
       "      <th>931622</th>\n",
       "      <td>475000</td>\n",
       "      <td>398891.445</td>\n",
       "      <td>322000.0</td>\n",
       "    </tr>\n",
       "    <tr>\n",
       "      <th>483849</th>\n",
       "      <td>309343</td>\n",
       "      <td>398891.445</td>\n",
       "      <td>322000.0</td>\n",
       "    </tr>\n",
       "    <tr>\n",
       "      <th>977768</th>\n",
       "      <td>791650</td>\n",
       "      <td>398891.445</td>\n",
       "      <td>322000.0</td>\n",
       "    </tr>\n",
       "    <tr>\n",
       "      <th>1713902</th>\n",
       "      <td>452499</td>\n",
       "      <td>398891.445</td>\n",
       "      <td>322000.0</td>\n",
       "    </tr>\n",
       "  </tbody>\n",
       "</table>\n",
       "</div>"
      ],
      "text/plain": [
       "         target  baseline_mean  baseline_median\n",
       "1670342  170455     398891.445         322000.0\n",
       "931622   475000     398891.445         322000.0\n",
       "483849   309343     398891.445         322000.0\n",
       "977768   791650     398891.445         322000.0\n",
       "1713902  452499     398891.445         322000.0"
      ]
     },
     "execution_count": 87,
     "metadata": {},
     "output_type": "execute_result"
    }
   ],
   "source": [
    "predictions.head()"
   ]
  },
  {
   "cell_type": "code",
   "execution_count": 88,
   "id": "14c9c652-8f5b-4775-8f48-657456a4ada9",
   "metadata": {},
   "outputs": [
    {
     "data": {
      "text/plain": [
       "LinearRegression()"
      ]
     },
     "execution_count": 88,
     "metadata": {},
     "output_type": "execute_result"
    }
   ],
   "source": [
    "# make the model\n",
    "lm = lr()\n",
    "# fit data to simple regression\n",
    "lm.fit(x_train, y_train)"
   ]
  },
  {
   "cell_type": "code",
   "execution_count": 91,
   "id": "264f8452-686e-40c4-acce-c9f46f305e49",
   "metadata": {},
   "outputs": [],
   "source": [
    "# make predictions,\n",
    "simple_model = lm.predict(x_train)"
   ]
  },
  {
   "cell_type": "code",
   "execution_count": 46,
   "id": "ddd03c96-9d16-4909-9ee3-a5b06fe48f20",
   "metadata": {},
   "outputs": [],
   "source": [
    "predictions = predictions[['baseline_mean','baseline_median','simple_model']]"
   ]
  },
  {
   "cell_type": "code",
   "execution_count": 92,
   "id": "2fafcc95-d8a9-4767-b16a-b3bea1e90510",
   "metadata": {},
   "outputs": [
    {
     "data": {
      "text/plain": [
       "(586612, 586612, 586612, 586612)"
      ]
     },
     "execution_count": 92,
     "metadata": {},
     "output_type": "execute_result"
    }
   ],
   "source": [
    "len(x_train), len(y_train), len(predictions), len(simple_model)"
   ]
  },
  {
   "cell_type": "code",
   "execution_count": 22,
   "id": "34e74f6f-b341-480a-bfa9-63e9d876880b",
   "metadata": {},
   "outputs": [
    {
     "data": {
      "text/plain": [
       "(Index(['bedrooms', 'baths', 'sq_feet', 'year_built', 'tax_amount', 'fips'], dtype='object'),\n",
       " array([-4255.90774888, -1563.6319801 ,    16.79795672,  -369.57700426,\n",
       "           82.90084401,   813.27468797]))"
      ]
     },
     "execution_count": 22,
     "metadata": {},
     "output_type": "execute_result"
    }
   ],
   "source": [
    "# examine the coefficients\n",
    "x_train.columns, lm.coef_"
   ]
  },
  {
   "cell_type": "code",
   "execution_count": 28,
   "id": "be278c74-c7b1-4092-9264-8079918119df",
   "metadata": {},
   "outputs": [
    {
     "data": {
      "text/plain": [
       "1670342    170455\n",
       "931622     475000\n",
       "483849     309343\n",
       "977768     791650\n",
       "1713902    452499\n",
       "Name: tax_value, dtype: int64"
      ]
     },
     "execution_count": 28,
     "metadata": {},
     "output_type": "execute_result"
    }
   ],
   "source": [
    "y_train.head()"
   ]
  },
  {
   "cell_type": "code",
   "execution_count": 31,
   "id": "47320296-5826-4283-be3c-4d8668132321",
   "metadata": {},
   "outputs": [
    {
     "data": {
      "text/plain": [
       "Text(0, 0.5, 'Number of homes')"
      ]
     },
     "execution_count": 31,
     "metadata": {},
     "output_type": "execute_result"
    },
    {
     "data": {
      "image/png": "[encoded data removed]",
      "text/plain": [
       "<Figure size 640x480 with 1 Axes>"
      ]
     },
     "metadata": {},
     "output_type": "display_data"
    }
   ],
   "source": [
    "plt.hist(y_train)\n",
    "plt.xlabel('Tax values of homes (in millions of dollars)')\n",
    "plt.ylabel('Number of homes')"
   ]
  },
  {
   "cell_type": "code",
   "execution_count": 48,
   "id": "bae73ff8-a162-40fd-9739-acc7b06307d4",
   "metadata": {},
   "outputs": [
    {
     "ename": "ValueError",
     "evalue": "Found input variables with inconsistent numbers of samples: [586612, 251406]",
     "output_type": "error",
     "traceback": [
      "\u001b[0;31m---------------------------------------------------------------------------\u001b[0m",
      "\u001b[0;31mValueError\u001b[0m                                Traceback (most recent call last)",
      "\u001b[0;32m/var/folders/hf/46l4fb0x1bj47kh2tdxlqp1h0000gn/T/ipykernel_6639/2612809982.py\u001b[0m in \u001b[0;36m<module>\u001b[0;34m\u001b[0m\n\u001b[0;32m----> 1\u001b[0;31m \u001b[0mevaluate\u001b[0m\u001b[0;34m.\u001b[0m\u001b[0mregression_errors\u001b[0m\u001b[0;34m(\u001b[0m\u001b[0my_train\u001b[0m\u001b[0;34m,\u001b[0m \u001b[0mpredictions\u001b[0m\u001b[0;34m[\u001b[0m\u001b[0;34m'baseline_mean'\u001b[0m\u001b[0;34m]\u001b[0m\u001b[0;34m)\u001b[0m\u001b[0;34m\u001b[0m\u001b[0;34m\u001b[0m\u001b[0m\n\u001b[0m",
      "\u001b[0;32m~/codeup-data-science/CodeUp/regression_exercises/src/evaluate.py\u001b[0m in \u001b[0;36mregression_errors\u001b[0;34m(y, yhat)\u001b[0m\n\u001b[1;32m     50\u001b[0m \u001b[0;34m\u001b[0m\u001b[0m\n\u001b[1;32m     51\u001b[0m \u001b[0;34m\u001b[0m\u001b[0m\n\u001b[0;32m---> 52\u001b[0;31m     \u001b[0mess\u001b[0m\u001b[0;34m,\u001b[0m \u001b[0msse\u001b[0m\u001b[0;34m,\u001b[0m \u001b[0mtss\u001b[0m\u001b[0;34m,\u001b[0m \u001b[0mmse\u001b[0m\u001b[0;34m,\u001b[0m \u001b[0mrmse\u001b[0m\u001b[0;34m,\u001b[0m \u001b[0mr2\u001b[0m \u001b[0;34m=\u001b[0m \u001b[0mcalc_performance\u001b[0m\u001b[0;34m(\u001b[0m\u001b[0my\u001b[0m\u001b[0;34m,\u001b[0m \u001b[0myhat\u001b[0m\u001b[0;34m)\u001b[0m\u001b[0;34m\u001b[0m\u001b[0;34m\u001b[0m\u001b[0m\n\u001b[0m\u001b[1;32m     53\u001b[0m \u001b[0;34m\u001b[0m\u001b[0m\n\u001b[1;32m     54\u001b[0m     print(f'''Model Performance\n",
      "\u001b[0;32m~/codeup-data-science/CodeUp/regression_exercises/src/evaluate.py\u001b[0m in \u001b[0;36mcalc_performance\u001b[0;34m(y, yhat)\u001b[0m\n\u001b[1;32m     29\u001b[0m \u001b[0;34m\u001b[0m\u001b[0m\n\u001b[1;32m     30\u001b[0m     \u001b[0;31m# sum of squres errors\u001b[0m\u001b[0;34m\u001b[0m\u001b[0;34m\u001b[0m\u001b[0m\n\u001b[0;32m---> 31\u001b[0;31m     \u001b[0msse\u001b[0m \u001b[0;34m=\u001b[0m \u001b[0mmean_squared_error\u001b[0m\u001b[0;34m(\u001b[0m\u001b[0my\u001b[0m\u001b[0;34m,\u001b[0m \u001b[0myhat\u001b[0m\u001b[0;34m)\u001b[0m\u001b[0;34m*\u001b[0m\u001b[0mlen\u001b[0m\u001b[0;34m(\u001b[0m\u001b[0mdf\u001b[0m\u001b[0;34m)\u001b[0m\u001b[0;34m\u001b[0m\u001b[0;34m\u001b[0m\u001b[0m\n\u001b[0m\u001b[1;32m     32\u001b[0m \u001b[0;34m\u001b[0m\u001b[0m\n\u001b[1;32m     33\u001b[0m     \u001b[0;31m# total sum of squares\u001b[0m\u001b[0;34m\u001b[0m\u001b[0;34m\u001b[0m\u001b[0m\n",
      "\u001b[0;32m/usr/local/anaconda3/lib/python3.9/site-packages/sklearn/metrics/_regression.py\u001b[0m in \u001b[0;36mmean_squared_error\u001b[0;34m(y_true, y_pred, sample_weight, multioutput, squared)\u001b[0m\n\u001b[1;32m    436\u001b[0m     \u001b[0;36m0.825\u001b[0m\u001b[0;34m...\u001b[0m\u001b[0;34m\u001b[0m\u001b[0;34m\u001b[0m\u001b[0m\n\u001b[1;32m    437\u001b[0m     \"\"\"\n\u001b[0;32m--> 438\u001b[0;31m     y_type, y_true, y_pred, multioutput = _check_reg_targets(\n\u001b[0m\u001b[1;32m    439\u001b[0m         \u001b[0my_true\u001b[0m\u001b[0;34m,\u001b[0m \u001b[0my_pred\u001b[0m\u001b[0;34m,\u001b[0m \u001b[0mmultioutput\u001b[0m\u001b[0;34m\u001b[0m\u001b[0;34m\u001b[0m\u001b[0m\n\u001b[1;32m    440\u001b[0m     )\n",
      "\u001b[0;32m/usr/local/anaconda3/lib/python3.9/site-packages/sklearn/metrics/_regression.py\u001b[0m in \u001b[0;36m_check_reg_targets\u001b[0;34m(y_true, y_pred, multioutput, dtype)\u001b[0m\n\u001b[1;32m     92\u001b[0m         \u001b[0mthe\u001b[0m \u001b[0mdtype\u001b[0m \u001b[0margument\u001b[0m \u001b[0mpassed\u001b[0m \u001b[0mto\u001b[0m \u001b[0mcheck_array\u001b[0m\u001b[0;34m.\u001b[0m\u001b[0;34m\u001b[0m\u001b[0;34m\u001b[0m\u001b[0m\n\u001b[1;32m     93\u001b[0m     \"\"\"\n\u001b[0;32m---> 94\u001b[0;31m     \u001b[0mcheck_consistent_length\u001b[0m\u001b[0;34m(\u001b[0m\u001b[0my_true\u001b[0m\u001b[0;34m,\u001b[0m \u001b[0my_pred\u001b[0m\u001b[0;34m)\u001b[0m\u001b[0;34m\u001b[0m\u001b[0;34m\u001b[0m\u001b[0m\n\u001b[0m\u001b[1;32m     95\u001b[0m     \u001b[0my_true\u001b[0m \u001b[0;34m=\u001b[0m \u001b[0mcheck_array\u001b[0m\u001b[0;34m(\u001b[0m\u001b[0my_true\u001b[0m\u001b[0;34m,\u001b[0m \u001b[0mensure_2d\u001b[0m\u001b[0;34m=\u001b[0m\u001b[0;32mFalse\u001b[0m\u001b[0;34m,\u001b[0m \u001b[0mdtype\u001b[0m\u001b[0;34m=\u001b[0m\u001b[0mdtype\u001b[0m\u001b[0;34m)\u001b[0m\u001b[0;34m\u001b[0m\u001b[0;34m\u001b[0m\u001b[0m\n\u001b[1;32m     96\u001b[0m     \u001b[0my_pred\u001b[0m \u001b[0;34m=\u001b[0m \u001b[0mcheck_array\u001b[0m\u001b[0;34m(\u001b[0m\u001b[0my_pred\u001b[0m\u001b[0;34m,\u001b[0m \u001b[0mensure_2d\u001b[0m\u001b[0;34m=\u001b[0m\u001b[0;32mFalse\u001b[0m\u001b[0;34m,\u001b[0m \u001b[0mdtype\u001b[0m\u001b[0;34m=\u001b[0m\u001b[0mdtype\u001b[0m\u001b[0;34m)\u001b[0m\u001b[0;34m\u001b[0m\u001b[0;34m\u001b[0m\u001b[0m\n",
      "\u001b[0;32m/usr/local/anaconda3/lib/python3.9/site-packages/sklearn/utils/validation.py\u001b[0m in \u001b[0;36mcheck_consistent_length\u001b[0;34m(*arrays)\u001b[0m\n\u001b[1;32m    330\u001b[0m     \u001b[0muniques\u001b[0m \u001b[0;34m=\u001b[0m \u001b[0mnp\u001b[0m\u001b[0;34m.\u001b[0m\u001b[0munique\u001b[0m\u001b[0;34m(\u001b[0m\u001b[0mlengths\u001b[0m\u001b[0;34m)\u001b[0m\u001b[0;34m\u001b[0m\u001b[0;34m\u001b[0m\u001b[0m\n\u001b[1;32m    331\u001b[0m     \u001b[0;32mif\u001b[0m \u001b[0mlen\u001b[0m\u001b[0;34m(\u001b[0m\u001b[0muniques\u001b[0m\u001b[0;34m)\u001b[0m \u001b[0;34m>\u001b[0m \u001b[0;36m1\u001b[0m\u001b[0;34m:\u001b[0m\u001b[0;34m\u001b[0m\u001b[0;34m\u001b[0m\u001b[0m\n\u001b[0;32m--> 332\u001b[0;31m         raise ValueError(\n\u001b[0m\u001b[1;32m    333\u001b[0m             \u001b[0;34m\"Found input variables with inconsistent numbers of samples: %r\"\u001b[0m\u001b[0;34m\u001b[0m\u001b[0;34m\u001b[0m\u001b[0m\n\u001b[1;32m    334\u001b[0m             \u001b[0;34m%\u001b[0m \u001b[0;34m[\u001b[0m\u001b[0mint\u001b[0m\u001b[0;34m(\u001b[0m\u001b[0ml\u001b[0m\u001b[0;34m)\u001b[0m \u001b[0;32mfor\u001b[0m \u001b[0ml\u001b[0m \u001b[0;32min\u001b[0m \u001b[0mlengths\u001b[0m\u001b[0;34m]\u001b[0m\u001b[0;34m\u001b[0m\u001b[0;34m\u001b[0m\u001b[0m\n",
      "\u001b[0;31mValueError\u001b[0m: Found input variables with inconsistent numbers of samples: [586612, 251406]"
     ]
    }
   ],
   "source": [
    "evaluate.regression_errors(y_train, predictions['baseline_mean'])"
   ]
  },
  {
   "cell_type": "code",
   "execution_count": 49,
   "id": "74ff7f2e-3b6f-420f-8bb1-c2f1dda178c8",
   "metadata": {},
   "outputs": [
    {
     "name": "stdout",
     "output_type": "stream",
     "text": [
      "<class 'pandas.core.series.Series'>\n",
      "Int64Index: 586612 entries, 1670342 to 85105\n",
      "Series name: tax_value\n",
      "Non-Null Count   Dtype\n",
      "--------------   -----\n",
      "586612 non-null  int64\n",
      "dtypes: int64(1)\n",
      "memory usage: 9.0 MB\n"
     ]
    }
   ],
   "source": [
    "y_train.info()"
   ]
  },
  {
   "cell_type": "code",
   "execution_count": 50,
   "id": "c82f6331-c222-43be-85e9-145a57faee05",
   "metadata": {},
   "outputs": [
    {
     "name": "stdout",
     "output_type": "stream",
     "text": [
      "<class 'pandas.core.frame.DataFrame'>\n",
      "RangeIndex: 251406 entries, 0 to 251405\n",
      "Data columns (total 3 columns):\n",
      " #   Column           Non-Null Count   Dtype  \n",
      "---  ------           --------------   -----  \n",
      " 0   baseline_mean    251406 non-null  float64\n",
      " 1   baseline_median  251406 non-null  float64\n",
      " 2   simple_model     251406 non-null  float64\n",
      "dtypes: float64(3)\n",
      "memory usage: 5.8 MB\n"
     ]
    }
   ],
   "source": [
    "predictions.info()"
   ]
  },
  {
   "cell_type": "code",
   "execution_count": null,
   "id": "36dbf77f-d11b-4ef8-b386-2cf6af9297c2",
   "metadata": {},
   "outputs": [],
   "source": []
  }
 ],
 "metadata": {
  "kernelspec": {
   "display_name": "Python 3 (ipykernel)",
   "language": "python",
   "name": "python3"
  },
  "language_info": {
   "codemirror_mode": {
    "name": "ipython",
    "version": 3
   },
   "file_extension": ".py",
   "mimetype": "text/x-python",
   "name": "python",
   "nbconvert_exporter": "python",
   "pygments_lexer": "ipython3",
   "version": "3.9.13"
  }
 },
 "nbformat": 4,
 "nbformat_minor": 5
}
